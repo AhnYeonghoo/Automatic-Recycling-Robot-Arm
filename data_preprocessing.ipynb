{
  "nbformat": 4,
  "nbformat_minor": 0,
  "metadata": {
    "colab": {
      "private_outputs": true,
      "provenance": [],
      "gpuType": "T4",
      "mount_file_id": "1BLjyEnas0tzy5aaieW72PFPa4j-MS0xX",
      "authorship_tag": "ABX9TyOSkJnQwloFp2Qj48Tjs6KI",
      "include_colab_link": true
    },
    "kernelspec": {
      "name": "python3",
      "display_name": "Python 3"
    },
    "language_info": {
      "name": "python"
    },
    "accelerator": "GPU"
  },
  "cells": [
    {
      "cell_type": "markdown",
      "metadata": {
        "id": "view-in-github",
        "colab_type": "text"
      },
      "source": [
        "<a href=\"https://colab.research.google.com/github/AhnYeonghoo/Plastic-self-classification-system-using-deep-learning/blob/Machine-Learning/data_preprocessing.ipynb\" target=\"_parent\"><img src=\"https://colab.research.google.com/assets/colab-badge.svg\" alt=\"Open In Colab\"/></a>"
      ]
    },
    {
      "cell_type": "code",
      "source": [
        "import os\n",
        "import json\n",
        "\n",
        "# 작업할 디렉토리의 루트 경로를 설정\n",
        "label_root_dir = '/content/drive/MyDrive/Sample/02.라벨링데이터'\n",
        "image_root_dir = '/content/drive/MyDrive/Sample/01.원천데이터'\n",
        "\n",
        "# 유지할 클래스 네임을 설정\n",
        "allowed_classes = {'c_5_02', 'c_6', 'c_5_01_01', 'c_5_02_01', 'c_6_01'}\n",
        "\n",
        "# 디렉토리를 순회하며 JSON 파일을 처리\n",
        "for subdir, _, files in os.walk(label_root_dir):\n",
        "    for file in files:\n",
        "        if file.endswith('.json'):\n",
        "            file_path = os.path.join(subdir, file)\n",
        "\n",
        "            with open(file_path, 'r', encoding='utf-8') as f:\n",
        "                data = json.load(f)\n",
        "\n",
        "            # 클래스 네임이 허용된 클래스에 속하는 객체만 남김\n",
        "            if 'objects' in data:\n",
        "                filtered_objects = [obj for obj in data['objects'] if obj.get('class_name') in allowed_classes]\n",
        "\n",
        "                # 허용된 클래스에 속하는 객체가 있을 경우, JSON 파일을 업데이트\n",
        "                if filtered_objects:\n",
        "                    data['objects'] = filtered_objects\n",
        "                    with open(file_path, 'w', encoding='utf-8') as f:\n",
        "                        json.dump(data, f, ensure_ascii=False, indent=4)\n",
        "                else:\n",
        "                    # 허용된 클래스에 속하는 객체가 없을 경우, JSON 파일과 해당하는 이미지 파일을 삭제\n",
        "                    os.remove(file_path)\n",
        "\n",
        "                    image_file_name = file.replace('.json', '.jpg')\n",
        "                    image_file_path = os.path.join(image_root_dir, os.path.relpath(subdir, label_root_dir), image_file_name)\n",
        "                    if os.path.exists(image_file_path):\n",
        "                        os.remove(image_file_path)\n",
        "\n",
        "print(\"JSON 파일 및 이미지 파일 처리 완료\")"
      ],
      "metadata": {
        "id": "zMgd4XOP0gbm"
      },
      "execution_count": null,
      "outputs": []
    }
  ]
}