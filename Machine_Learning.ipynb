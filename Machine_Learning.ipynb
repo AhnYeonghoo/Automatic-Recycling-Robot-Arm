{
  "nbformat": 4,
  "nbformat_minor": 0,
  "metadata": {
    "colab": {
      "private_outputs": true,
      "provenance": [],
      "machine_shape": "hm",
      "gpuType": "A100",
      "include_colab_link": true
    },
    "kernelspec": {
      "name": "python3",
      "display_name": "Python 3"
    },
    "language_info": {
      "name": "python"
    },
    "accelerator": "GPU"
  },
  "cells": [
    {
      "cell_type": "markdown",
      "metadata": {
        "id": "view-in-github",
        "colab_type": "text"
      },
      "source": [
        "<a href=\"https://colab.research.google.com/github/AhnYeonghoo/Plastic-self-classification-system-using-deep-learning/blob/Machine-Learning/Machine_Learning.ipynb\" target=\"_parent\"><img src=\"https://colab.research.google.com/assets/colab-badge.svg\" alt=\"Open In Colab\"/></a>"
      ]
    },
    {
      "cell_type": "code",
      "execution_count": null,
      "metadata": {
        "id": "TBuKkoXbYpV9"
      },
      "outputs": [],
      "source": [
        "from google.colab import drive\n",
        "drive.mount('/content/drive')"
      ]
    },
    {
      "cell_type": "code",
      "source": [
        "# import os\n",
        "# import random\n",
        "# import shutil\n",
        "\n",
        "# # 원본 데이터 경로 (이미지와 라벨 파일이 모두 있는 곳)\n",
        "# source_dir = '/content/drive/MyDrive/01-1.정식개방데이터/Valid_Files'\n",
        "# # 목적지 경로 (train과 val 데이터로 나눌 폴더)\n",
        "# train_dir = '/content/drive/MyDrive/yolo_training/train'\n",
        "# val_dir = '/content/drive/MyDrive/yolo_training/val'\n",
        "\n",
        "# # 목적지 폴더 생성\n",
        "# os.makedirs(train_dir, exist_ok=True)\n",
        "# os.makedirs(val_dir, exist_ok=True)\n",
        "\n",
        "# # 파일 리스트 불러오기 (이미지와 라벨 파일이 함께 있어야 함)\n",
        "# all_files = [f for f in os.listdir(source_dir) if f.endswith('.jpg')]  # 이미지 파일만 불러옴\n",
        "\n",
        "# # 랜덤하게 섞기\n",
        "# random.shuffle(all_files)\n",
        "\n",
        "# # 7:3 비율로 나누기\n",
        "# split_idx = int(len(all_files) * 0.7)\n",
        "# train_files = all_files[:split_idx]\n",
        "# val_files = all_files[split_idx:]\n",
        "\n",
        "# # 파일을 train, val 폴더로 복사\n",
        "# for file in train_files:\n",
        "#     # 이미지 파일 복사\n",
        "#     shutil.copy(os.path.join(source_dir, file), os.path.join(train_dir, file))\n",
        "#     # 라벨 파일 복사 (.jpg -> .txt 변경)\n",
        "#     label_file = file.replace('.jpg', '.txt')\n",
        "#     shutil.copy(os.path.join(source_dir, label_file), os.path.join(train_dir, label_file))\n",
        "\n",
        "# for file in val_files:\n",
        "#     # 이미지 파일 복사\n",
        "#     shutil.copy(os.path.join(source_dir, file), os.path.join(val_dir, file))\n",
        "#     # 라벨 파일 복사 (.jpg -> .txt 변경)\n",
        "#     label_file = file.replace('.jpg', '.txt')\n",
        "#     shutil.copy(os.path.join(source_dir, label_file), os.path.join(val_dir, label_file))\n",
        "\n",
        "# print(\"Train/Val 데이터가 성공적으로 7:3 비율로 나눠졌습니다.\")\n"
      ],
      "metadata": {
        "id": "OgHTo3Qlffio"
      },
      "execution_count": null,
      "outputs": []
    },
    {
      "cell_type": "code",
      "source": [
        "!git clone https://github.com/WongKinYiu/yolov7.git\n",
        "%cd yolov7\n",
        "\n",
        "# 필요한 라이브러리 설치\n",
        "!pip install -r requirements.txt\n",
        "\n",
        "# 사전 학습된 가중치 다운로드\n",
        "!wget https://github.com/WongKinYiu/yolov7/releases/download/v0.1/yolov7.pt\n"
      ],
      "metadata": {
        "id": "XooCrocuYtKQ"
      },
      "execution_count": null,
      "outputs": []
    },
    {
      "cell_type": "code",
      "source": [
        "# yolov7 관련 파일 삭제\n",
        "!rm -rf /content/yolov7\n"
      ],
      "metadata": {
        "id": "X4OBrjqQEQLt"
      },
      "execution_count": null,
      "outputs": []
    },
    {
      "cell_type": "code",
      "source": [
        "# 최상위 경로로 이동\n",
        "%cd /content\n"
      ],
      "metadata": {
        "id": "xQPqg0rUEYuC"
      },
      "execution_count": null,
      "outputs": []
    },
    {
      "cell_type": "code",
      "source": [
        "!pip install torch torchvision torchaudio --extra-index-url https://download.pytorch.org/whl/cu117\n"
      ],
      "metadata": {
        "id": "TzBMh-3Pq17Y"
      },
      "execution_count": null,
      "outputs": []
    },
    {
      "cell_type": "code",
      "source": [
        "# !rm /content/yolov7/yolov7.pt\n"
      ],
      "metadata": {
        "id": "iDoKafi-rIFX"
      },
      "execution_count": null,
      "outputs": []
    },
    {
      "cell_type": "code",
      "source": [
        "# !wget https://github.com/WongKinYiu/yolov7/releases/download/v0.1/yolov7.pt\n"
      ],
      "metadata": {
        "id": "Kr6vW2mDrKn7"
      },
      "execution_count": null,
      "outputs": []
    },
    {
      "cell_type": "code",
      "source": [
        "# Google Drive에서 로컬 디스크로 데이터 복사\n",
        "!cp -r /content/drive/MyDrive/yolo_training_A1/Merged_Data_A1 /content/Merged_Data_A1_local\n"
      ],
      "metadata": {
        "id": "W-ouDM9V6KRD"
      },
      "execution_count": null,
      "outputs": []
    },
    {
      "cell_type": "code",
      "source": [
        "# 갯수 확인\n",
        "import os\n",
        "\n",
        "# 이건 하나의 폴더에 있을때 거기서 갯수 확인해보는거\n",
        "# 두 개의 폴더가 아닌 하나의 폴더 경로 설정\n",
        "data_dir = '/content/Merged_Data_A1_local'\n",
        "\n",
        "# 이미지와 라벨 파일 구분하여 리스트 생성\n",
        "image_files = [name for name in os.listdir(data_dir) if name.endswith('.jpg')]\n",
        "label_files = [name for name in os.listdir(data_dir) if name.endswith('.txt')]\n",
        "\n",
        "# 이미지 파일과 라벨 파일 개수 확인\n",
        "image_count = len(image_files)\n",
        "label_count = len(label_files)\n",
        "\n",
        "# 결과 출력\n",
        "print(f\"이미지 파일 개수: {image_count}\")\n",
        "print(f\"라벨 파일 개수: {label_count}\")\n"
      ],
      "metadata": {
        "id": "YS_eAFcDLc2q"
      },
      "execution_count": null,
      "outputs": []
    },
    {
      "cell_type": "code",
      "source": [
        "# data.yaml 파일 경로\n",
        "yaml_file = '/content/yolo_training_A1/data.yaml'\n",
        "\n",
        "# 수정할 내용\n",
        "new_train_path = '/content/yolo_training_A1/train'\n",
        "new_val_path = '/content/yolo_training_A1/val'\n",
        "\n",
        "# 기존 파일 읽기\n",
        "with open(yaml_file, 'r') as file:\n",
        "    lines = file.readlines()\n",
        "\n",
        "# 경로를 수정해서 새 파일로 저장\n",
        "with open(yaml_file, 'w') as file:\n",
        "    for line in lines:\n",
        "        # train 경로 수정\n",
        "        if 'train:' in line:\n",
        "            file.write(f'train: {new_train_path}\\n')\n",
        "        # val 경로 수정\n",
        "        elif 'val:' in line:\n",
        "            file.write(f'val: {new_val_path}\\n')\n",
        "        else:\n",
        "            file.write(line)\n",
        "\n",
        "print(\"data.yaml 파일이 성공적으로 수정되었습니다.\")\n"
      ],
      "metadata": {
        "id": "cVOKIrTTH_cg"
      },
      "execution_count": null,
      "outputs": []
    },
    {
      "cell_type": "code",
      "source": [
        "# 수정된 파일 내용 확인\n",
        "!cat /content/yolo_training_A1/data.yaml\n"
      ],
      "metadata": {
        "id": "4DGhtYUbIHLt"
      },
      "execution_count": null,
      "outputs": []
    },
    {
      "cell_type": "code",
      "source": [
        "# YOLOv7 학습 시작\n",
        "!python train.py --img 640 --batch 16 --epochs 50 --data /content/drive/MyDrive/yolo_training_A1/data.yaml --cfg cfg/training/yolov7.yaml --weights yolov7.pt --device 0 --workers 8"
      ],
      "metadata": {
        "id": "jq27fUM3ZT49"
      },
      "execution_count": null,
      "outputs": []
    },
    {
      "cell_type": "code",
      "source": [
        "!zip -r /content/runs.zip /content/yolov7/runs\n"
      ],
      "metadata": {
        "id": "CvQFOfV-Aep-"
      },
      "execution_count": null,
      "outputs": []
    },
    {
      "cell_type": "code",
      "source": [
        "from google.colab import files\n",
        "files.download('/content/runs.zip')\n"
      ],
      "metadata": {
        "id": "YiNyo8Z4F3af"
      },
      "execution_count": null,
      "outputs": []
    },
    {
      "cell_type": "code",
      "source": [
        "!cp /content/runs/train/exp/weights/best.pt /content/drive/MyDrive/\n",
        "!cp /content/runs/train/exp/weights/last.pt /content/drive/MyDrive/\n"
      ],
      "metadata": {
        "id": "aKWzmxk9J56F"
      },
      "execution_count": null,
      "outputs": []
    },
    {
      "cell_type": "code",
      "source": [
        "!nproc\n"
      ],
      "metadata": {
        "id": "CVWmGkgJ52q1"
      },
      "execution_count": null,
      "outputs": []
    },
    {
      "cell_type": "code",
      "source": [
        "!ls /content/runs/train/\n"
      ],
      "metadata": {
        "id": "95cWV5V_KCx3"
      },
      "execution_count": null,
      "outputs": []
    },
    {
      "cell_type": "code",
      "source": [
        "!ls /content/\n",
        "\n"
      ],
      "metadata": {
        "id": "WQs-ghXWKKZJ"
      },
      "execution_count": null,
      "outputs": []
    },
    {
      "cell_type": "code",
      "source": [
        "!find /content/ -name best.pt\n",
        "!find /content/ -name last.pt\n"
      ],
      "metadata": {
        "id": "LZncZe9NKM7R"
      },
      "execution_count": null,
      "outputs": []
    },
    {
      "cell_type": "code",
      "source": [
        "# last.pt 파일로 학습 이어서 진행\n",
        "!python train.py --img 640 --batch 16 --epochs 30 --data /content/drive/MyDrive/yolo_training/data.yaml --cfg cfg/training/yolov7.yaml --weights /content/drive/MyDrive/yolo_training/runs/train/exp/weights/last.pt --device 0\n"
      ],
      "metadata": {
        "id": "-SQCgWGaYxu8"
      },
      "execution_count": null,
      "outputs": []
    },
    {
      "cell_type": "code",
      "source": [
        "# 학습된 모델을 사용해 추론 실행\n",
        "!python detect.py --weights /content/drive/MyDrive/yolo_training/runs/train/exp/weights/best.pt --img 640 --conf 0.25 --source /content/drive/MyDrive/yolo_training/test_images\n"
      ],
      "metadata": {
        "id": "8wm62qrBYw9C"
      },
      "execution_count": null,
      "outputs": []
    },
    {
      "cell_type": "code",
      "source": [
        "# last.pt 파일로 이어서 학습\n",
        "!python train.py --img 640 --batch 16 --epochs 30 --data /content/drive/MyDrive/yolo_training/data.yaml --cfg cfg/training/yolov7.yaml --weights /content/drive/MyDrive/yolo_training/runs/train/exp/weights/last.pt --device 0\n"
      ],
      "metadata": {
        "id": "rKe3M1oJY6ON"
      },
      "execution_count": null,
      "outputs": []
    },
    {
      "cell_type": "code",
      "source": [
        "############### 모델 검증 ###############"
      ],
      "metadata": {
        "id": "9aprWb4CQ270"
      },
      "execution_count": null,
      "outputs": []
    },
    {
      "cell_type": "code",
      "source": [
        "\n",
        "# 압축된 runs 파일 경로 설정 (필요에 따라 경로 수정)\n",
        "compressed_runs_path = '/content/drive/MyDrive/runs.zip'\n",
        "\n",
        "# 압축 해제\n",
        "import zipfile\n",
        "import os\n",
        "\n",
        "# 압축을 해제할 디렉토리\n",
        "unzip_dir = '/content/drive/MyDrive/runs'\n",
        "os.makedirs(unzip_dir, exist_ok=True)\n",
        "\n",
        "# 압축 해제\n",
        "with zipfile.ZipFile(compressed_runs_path, 'r') as zip_ref:\n",
        "    zip_ref.extractall(unzip_dir)\n",
        "\n",
        "print(\"압축 해제 완료\")\n"
      ],
      "metadata": {
        "id": "ANCgExIvQ3ll"
      },
      "execution_count": null,
      "outputs": []
    },
    {
      "cell_type": "code",
      "source": [
        "import matplotlib.pyplot as plt\n",
        "import cv2\n",
        "\n",
        "# 검증 결과 이미지 파일 (학습 중 검증 결과가 저장된 경로에서 가져옴)\n",
        "result_img_path = '/content/drive/MyDrive/runs/content/yolov7/runs/train/exp5/results.png'  # 학습 시 저장된 경로에 맞게 수정\n",
        "\n",
        "# 이미지 불러오기\n",
        "img = cv2.imread(result_img_path)\n",
        "img_rgb = cv2.cvtColor(img, cv2.COLOR_BGR2RGB)\n",
        "\n",
        "# 이미지 시각화\n",
        "plt.figure(figsize=(10, 10))\n",
        "plt.imshow(img_rgb)\n",
        "plt.axis('off')\n",
        "plt.show()\n"
      ],
      "metadata": {
        "id": "SpU9AlUgSxYa"
      },
      "execution_count": null,
      "outputs": []
    },
    {
      "cell_type": "code",
      "source": [
        "import matplotlib.pyplot as plt\n",
        "import cv2\n",
        "\n",
        "# 혼동 행렬 이미지 파일 경로\n",
        "confusion_matrix_path = '/content/drive/MyDrive/runs/content/yolov7/runs/train/exp5/confusion_matrix.png'\n",
        "\n",
        "# 이미지 불러오기\n",
        "confusion_matrix_img = cv2.imread(confusion_matrix_path)\n",
        "confusion_matrix_rgb = cv2.cvtColor(confusion_matrix_img, cv2.COLOR_BGR2RGB)\n",
        "\n",
        "# 이미지 시각화\n",
        "plt.figure(figsize=(10, 10))\n",
        "plt.imshow(confusion_matrix_rgb)\n",
        "plt.axis('off')\n",
        "plt.show()\n"
      ],
      "metadata": {
        "id": "BycYicyjU2kw"
      },
      "execution_count": null,
      "outputs": []
    },
    {
      "cell_type": "code",
      "source": [
        "# 오탐지 및 미탐지 확인\n",
        "# results.txt 파일 경로 설정 (실제 경로로 변경)\n",
        "results_file = '/content/drive/MyDrive/runs/content/yolov7/runs/train/exp5/results.txt'\n",
        "\n",
        "# results.txt 파일 읽기\n",
        "with open(results_file, 'r') as f:\n",
        "    lines = f.readlines()\n",
        "\n",
        "# 마지막 에포크 성능 정보 확인\n",
        "# 결과 파일의 형식에 맞춰 정밀도, 재현율 등 정보 추출\n",
        "last_epoch_info = lines[-1].strip().split()\n",
        "\n",
        "# 성능 지표 추출\n",
        "precision = float(last_epoch_info[4])  # Precision 값\n",
        "recall = float(last_epoch_info[5])     # Recall 값\n",
        "map50 = float(last_epoch_info[6])      # mAP@0.5\n",
        "map5095 = float(last_epoch_info[7])    # mAP@0.5:0.95\n",
        "\n",
        "# 성능 지표 출력\n",
        "print(f\"Precision: {precision}\")\n",
        "print(f\"Recall: {recall}\")\n",
        "print(f\"mAP@0.5: {map50}\")\n",
        "print(f\"mAP@0.5:0.95: {map5095}\")\n",
        "\n"
      ],
      "metadata": {
        "id": "sEQWS_dnvGXg"
      },
      "execution_count": null,
      "outputs": []
    },
    {
      "cell_type": "code",
      "source": [
        "# 모든 에포크에 대한 Precision과 Recall 값 출력\n",
        "for line in lines:\n",
        "    epoch_info = line.strip().split()\n",
        "    epoch = epoch_info[0]\n",
        "    precision = float(epoch_info[4])\n",
        "    recall = float(epoch_info[5])\n",
        "    print(f\"Epoch {epoch}: Precision = {precision}, Recall = {recall}\")\n"
      ],
      "metadata": {
        "id": "TBfaQupjwey1"
      },
      "execution_count": null,
      "outputs": []
    }
  ]
}